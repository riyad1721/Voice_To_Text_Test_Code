{
 "cells": [
  {
   "cell_type": "code",
   "execution_count": 1,
   "id": "122dbf5e",
   "metadata": {},
   "outputs": [
    {
     "name": "stdout",
     "output_type": "stream",
     "text": [
      "Starting Recording ....\n"
     ]
    }
   ],
   "source": [
    "import pyaudio\n",
    "import wave\n",
    "\n",
    "FRAME_PER_BUFFERS = 3200\n",
    "FORMAT = pyaudio.paInt16\n",
    "CHANNELS = 1\n",
    "FRAME_RATE = 16000\n",
    "\n",
    "p = pyaudio.PyAudio()\n",
    "\n",
    "stream = p.open(\n",
    "    format= FORMAT,\n",
    "    channels= CHANNELS,\n",
    "    rate= FRAME_RATE,\n",
    "    input= True,\n",
    "    frames_per_buffer= FRAME_PER_BUFFERS\n",
    ")\n",
    "\n",
    "print('Starting Recording ....')\n",
    "seconds = 5\n",
    "frames = []\n",
    "for i in range(0, int(FRAME_RATE/ FRAME_PER_BUFFERS*seconds)):\n",
    "    data = stream.read(FRAME_PER_BUFFERS)\n",
    "    frames.append(data)\n",
    "stream.stop_stream()\n",
    "stream.close()\n",
    "p.terminate()\n",
    "\n",
    "obj = wave.open('output.wav', 'wb')\n",
    "obj.setnchannels(CHANNELS) # mono\n",
    "obj.setsampwidth(p.get_sample_size(FORMAT))\n",
    "obj.setframerate(FRAME_RATE)\n",
    "obj.writeframes(b\"\".join(frames))\n",
    "obj.close()\n"
   ]
  },
  {
   "cell_type": "code",
   "execution_count": null,
   "id": "dd4b6a54",
   "metadata": {},
   "outputs": [],
   "source": []
  },
  {
   "cell_type": "code",
   "execution_count": null,
   "id": "12b6aec6",
   "metadata": {},
   "outputs": [],
   "source": []
  }
 ],
 "metadata": {
  "kernelspec": {
   "display_name": "Python 3 (ipykernel)",
   "language": "python",
   "name": "python3"
  },
  "language_info": {
   "codemirror_mode": {
    "name": "ipython",
    "version": 3
   },
   "file_extension": ".py",
   "mimetype": "text/x-python",
   "name": "python",
   "nbconvert_exporter": "python",
   "pygments_lexer": "ipython3",
   "version": "3.9.16"
  }
 },
 "nbformat": 4,
 "nbformat_minor": 5
}
