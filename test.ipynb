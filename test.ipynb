{
 "cells": [
  {
   "cell_type": "code",
   "execution_count": 1,
   "id": "9e3ffd09",
   "metadata": {},
   "outputs": [],
   "source": [
    "import queue\n",
    "import sounddevice as sd\n",
    "from vosk import Model, KaldiRecognizer\n",
    "import sys\n",
    "import json"
   ]
  },
  {
   "cell_type": "code",
   "execution_count": 2,
   "id": "e30d6f49",
   "metadata": {},
   "outputs": [
    {
     "name": "stdout",
     "output_type": "stream",
     "text": [
      "Display input/output devices\n",
      "   0 Microsoft Sound Mapper - Input, MME (2 in, 0 out)\n",
      ">  1 Microphone Array (Intel® Smart , MME (2 in, 0 out)\n",
      "   2 Microsoft Sound Mapper - Output, MME (0 in, 2 out)\n",
      "<  3 Speakers (2- Realtek(R) Audio), MME (0 in, 2 out)\n",
      "   4 Primary Sound Capture Driver, Windows DirectSound (2 in, 0 out)\n",
      "   5 Microphone Array (Intel® Smart Sound Technology (Intel® SST)), Windows DirectSound (2 in, 0 out)\n",
      "   6 Primary Sound Driver, Windows DirectSound (0 in, 2 out)\n",
      "   7 Speakers (2- Realtek(R) Audio), Windows DirectSound (0 in, 2 out)\n",
      "   8 Speakers (2- Realtek(R) Audio), Windows WASAPI (0 in, 2 out)\n",
      "   9 Microphone Array (Intel® Smart Sound Technology (Intel® SST)), Windows WASAPI (4 in, 0 out)\n",
      "  10 Speakers 1 (Realtek HD Audio output with SST), Windows WDM-KS (0 in, 2 out)\n",
      "  11 Speakers 2 (Realtek HD Audio output with SST), Windows WDM-KS (0 in, 2 out)\n",
      "  12 PC Speaker (Realtek HD Audio output with SST), Windows WDM-KS (2 in, 0 out)\n",
      "  13 Microphone (Realtek HD Audio Mic input), Windows WDM-KS (2 in, 0 out)\n",
      "  14 Headphones 1 (Realtek HD Audio 2nd output with SST), Windows WDM-KS (0 in, 2 out)\n",
      "  15 Headphones 2 (Realtek HD Audio 2nd output with SST), Windows WDM-KS (0 in, 2 out)\n",
      "  16 PC Speaker (Realtek HD Audio 2nd output with SST), Windows WDM-KS (2 in, 0 out)\n",
      "  17 Stereo Mix (Realtek HD Audio Stereo input), Windows WDM-KS (2 in, 0 out)\n",
      "  18 Microphone Array (Intel® Smart Sound Technology (Intel® SST) Microphone), Windows WDM-KS (4 in, 0 out)\n"
     ]
    }
   ],
   "source": [
    "# list all audio devices known to your system\n",
    "print(\"Display input/output devices\")\n",
    "print(sd.query_devices())"
   ]
  },
  {
   "cell_type": "code",
   "execution_count": 3,
   "id": "54be793f",
   "metadata": {},
   "outputs": [],
   "source": [
    "# get the samplerate - this is needed by the Kaldi recognizer\n",
    "device_info = sd.query_devices(sd.default.device[0], 'input')\n",
    "samplerate = int(device_info['default_samplerate'])"
   ]
  },
  {
   "cell_type": "code",
   "execution_count": 4,
   "id": "91d9e0ec",
   "metadata": {},
   "outputs": [
    {
     "name": "stdout",
     "output_type": "stream",
     "text": [
      "===> Initial Default Device Number:1 Description: {'name': 'Microphone Array (Intel® Smart ', 'index': 1, 'hostapi': 0, 'max_input_channels': 2, 'max_output_channels': 0, 'default_low_input_latency': 0.09, 'default_low_output_latency': 0.09, 'default_high_input_latency': 0.18, 'default_high_output_latency': 0.18, 'default_samplerate': 44100.0}\n"
     ]
    }
   ],
   "source": [
    "# display the default input device\n",
    "print(\"===> Initial Default Device Number:{} Description: {}\".format(sd.default.device[0], device_info))"
   ]
  },
  {
   "cell_type": "code",
   "execution_count": 5,
   "id": "c7e3ebf9",
   "metadata": {},
   "outputs": [],
   "source": [
    "# setup queue and callback function\n",
    "q = queue.Queue()\n",
    "\n",
    "def recordCallback(indata, frames, time, status):\n",
    "    if status:\n",
    "        print(status, file=sys.stderr)\n",
    "    q.put(bytes(indata))"
   ]
  },
  {
   "cell_type": "code",
   "execution_count": 6,
   "id": "60599815",
   "metadata": {},
   "outputs": [
    {
     "name": "stdout",
     "output_type": "stream",
     "text": [
      "===> Build the model and recognizer objects.  This will take a few minutes.\n"
     ]
    }
   ],
   "source": [
    "# build the model and recognizer objects.\n",
    "print(\"===> Build the model and recognizer objects.  This will take a few minutes.\")\n",
    "model = Model(r\"C:\\Users\\admin\\Desktop\\audio to text\\vosk-model-small-en-us-0.15\")\n",
    "recognizer = KaldiRecognizer(model, samplerate)\n",
    "recognizer.SetWords(False)"
   ]
  },
  {
   "cell_type": "code",
   "execution_count": null,
   "id": "37f349b6",
   "metadata": {},
   "outputs": [
    {
     "name": "stdout",
     "output_type": "stream",
     "text": [
      "===> Begin recording. Press Ctrl+C to stop the recording \n",
      "{\n",
      "  \"text\" : \"hello i'm here to say i'm working in sub exciting\"\n",
      "}\n",
      "{\n",
      "  \"text\" : \"ah my\"\n",
      "}\n",
      "{\n",
      "  \"text\" : \"hello hassan hello\"\n",
      "}\n",
      "{\n",
      "  \"text\" : \"how are you\"\n",
      "}\n",
      "{\n",
      "  \"text\" : \"i'm fine and do\"\n",
      "}\n",
      "{\n",
      "  \"text\" : \"are you looking for an opportunity up there will be sick they will engineer\"\n",
      "}\n",
      "{\n",
      "  \"text\" : \"yeah it's really good so good\"\n",
      "}\n",
      "{\n",
      "  \"text\" : \"oh okay\"\n",
      "}\n",
      "{\n",
      "  \"text\" : \"matchmaking is done\"\n",
      "}\n",
      "{\n",
      "  \"text\" : \"my checking is done know mad suki\"\n",
      "}\n",
      "{\n",
      "  \"text\" : \"oh okay fine\"\n",
      "}\n",
      "no input sound\n"
     ]
    }
   ],
   "source": [
    "print(\"===> Begin recording. Press Ctrl+C to stop the recording \")\n",
    "try:\n",
    "    with sd.RawInputStream(dtype='int16',\n",
    "                           channels=1,\n",
    "\n",
    "                           callback=recordCallback):\n",
    "        while True:\n",
    "            data = q.get()        \n",
    "            if recognizer.AcceptWaveform(data):\n",
    "                recognizerResult = recognizer.Result()\n",
    "                # convert the recognizerResult string into a dictionary  \n",
    "                resultDict = json.loads(recognizerResult)\n",
    "                if not resultDict.get(\"text\", \"\") == \"\":\n",
    "                    print(recognizerResult)\n",
    "                else:\n",
    "                    print(\"no input sound\")\n",
    "\n",
    "except KeyboardInterrupt:\n",
    "    print('===> Finished Recording')\n",
    "except Exception as e:\n",
    "    print(str(e))"
   ]
  },
  {
   "cell_type": "code",
   "execution_count": null,
   "id": "41ddde0a",
   "metadata": {},
   "outputs": [],
   "source": []
  }
 ],
 "metadata": {
  "kernelspec": {
   "display_name": "Python 3 (ipykernel)",
   "language": "python",
   "name": "python3"
  },
  "language_info": {
   "codemirror_mode": {
    "name": "ipython",
    "version": 3
   },
   "file_extension": ".py",
   "mimetype": "text/x-python",
   "name": "python",
   "nbconvert_exporter": "python",
   "pygments_lexer": "ipython3",
   "version": "3.9.16"
  }
 },
 "nbformat": 4,
 "nbformat_minor": 5
}
